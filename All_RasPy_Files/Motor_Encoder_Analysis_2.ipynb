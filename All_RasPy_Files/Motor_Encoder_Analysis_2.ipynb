{
 "cells": [
  {
   "cell_type": "code",
   "execution_count": 1,
   "metadata": {},
   "outputs": [],
   "source": [
    "import numpy as np\n",
    "from matplotlib import pyplot as plt"
   ]
  },
  {
   "cell_type": "code",
   "execution_count": 2,
   "metadata": {},
   "outputs": [],
   "source": [
    "all_gpio_val = []\n",
    "file1 = open(\"gpio_values.txt\",\"r\") \n",
    "content = file1.readlines()\n",
    "for line in content: \n",
    "      \n",
    "    for i in line: \n",
    "          \n",
    "        # Checking for the digit in  \n",
    "        # the string \n",
    "        if i.isdigit() == True: \n",
    "              \n",
    "            all_gpio_val.append(int(i))\n",
    "file1.close() "
   ]
  },
  {
   "cell_type": "code",
   "execution_count": 3,
   "metadata": {},
   "outputs": [],
   "source": [
    "all_gpio_val_2 = []\n",
    "file1 = open(\"gpio_values_2.txt\",\"r\") \n",
    "content = file1.readlines()\n",
    "for line in content: \n",
    "      \n",
    "    for i in line: \n",
    "          \n",
    "        # Checking for the digit in  \n",
    "        # the string \n",
    "        if i.isdigit() == True: \n",
    "              \n",
    "            all_gpio_val_2.append(int(i))\n",
    "file1.close()"
   ]
  },
  {
   "cell_type": "code",
   "execution_count": 5,
   "metadata": {},
   "outputs": [
    {
     "data": {
      "text/plain": [
       "213.0"
      ]
     },
     "execution_count": 5,
     "metadata": {},
     "output_type": "execute_result"
    }
   ],
   "source": [
    "x = np.linspace(0,len(all_gpio_val),len(all_gpio_val)+1)\n",
    "x = list(x)\n",
    "x.pop()"
   ]
  },
  {
   "cell_type": "code",
   "execution_count": 7,
   "metadata": {},
   "outputs": [
    {
     "data": {
      "text/plain": [
       "213.0"
      ]
     },
     "execution_count": 7,
     "metadata": {},
     "output_type": "execute_result"
    }
   ],
   "source": [
    "x2 = np.linspace(0,len(all_gpio_val_2),len(all_gpio_val_2)+1)\n",
    "x2 = list(x2)\n",
    "x2.pop()"
   ]
  },
  {
   "cell_type": "code",
   "execution_count": 10,
   "metadata": {},
   "outputs": [
    {
     "data": {
      "image/png": "[encoded data removed]",
      "text/plain": [
       "<Figure size 432x288 with 1 Axes>"
      ]
     },
     "metadata": {
      "needs_background": "light"
     },
     "output_type": "display_data"
    }
   ],
   "source": [
    "plt.plot(x,all_gpio_val,'r')\n",
    "plt.plot(x,all_gpio_val_2,'b')\n",
    "plt.title('Motor Encoder Analysis - Baron')\n",
    "plt.savefig('motor_encoder_graph_2.png')\n",
    "plt.xlabel('GPIO Input Reading')\n",
    "plt.ylabel('Encoder State : Baron')\n",
    "plt.show()"
   ]
  },
  {
   "cell_type": "code",
   "execution_count": null,
   "metadata": {},
   "outputs": [],
   "source": []
  }
 ],
 "metadata": {
  "kernelspec": {
   "display_name": "Python 3",
   "language": "python",
   "name": "python3"
  },
  "language_info": {
   "codemirror_mode": {
    "name": "ipython",
    "version": 3
   },
   "file_extension": ".py",
   "mimetype": "text/x-python",
   "name": "python",
   "nbconvert_exporter": "python",
   "pygments_lexer": "ipython3",
   "version": "3.7.6"
  }
 },
 "nbformat": 4,
 "nbformat_minor": 4
}
